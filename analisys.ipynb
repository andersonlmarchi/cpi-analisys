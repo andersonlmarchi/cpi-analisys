{
 "cells": [
  {
   "cell_type": "markdown",
   "metadata": {},
   "source": [
    "# Análise dos Índices de Corrupção e Desenvolvimento Humano"
   ]
  },
  {
   "cell_type": "code",
   "execution_count": null,
   "metadata": {},
   "outputs": [],
   "source": [
    "# Importar bibliotecas\n",
    "import pandas as pd\n",
    "import numpy as np\n",
    "import matplotlib.pyplot as plt\n",
    "import seaborn as sns\n",
    "import scipy.stats as stats"
   ]
  },
  {
   "cell_type": "code",
   "execution_count": null,
   "metadata": {},
   "outputs": [],
   "source": [
    "# Carregar arqivo CPI2023.csv\n",
    "df = pd.read_csv('CPI2023.csv')"
   ]
  },
  {
   "cell_type": "code",
   "execution_count": null,
   "metadata": {},
   "outputs": [],
   "source": [
    "# Mostra o cabeçalho do dataset\n",
    "print(df.head(10))"
   ]
  },
  {
   "cell_type": "code",
   "execution_count": null,
   "metadata": {},
   "outputs": [],
   "source": [
    "# Mostrar as informações do dataset\n",
    "print(df.info())"
   ]
  },
  {
   "cell_type": "markdown",
   "metadata": {},
   "source": [
    "# Ajuste de Dados:\n",
    "\n",
    "Limpeza dos dados: Identifique e trate valores ausentes, valores duplicados e valores discrepantes (outliers). Documente as etapas e decisões tomadas.\n",
    "\n",
    "Transformação de dados: Realize transformações necessárias, como normalização ou padronização de variáveis numéricas, codificação de variáveis categóricas e criação de novas variáveis derivadas, se aplicável."
   ]
  },
  {
   "cell_type": "code",
   "execution_count": null,
   "metadata": {},
   "outputs": [],
   "source": [
    "\n",
    "# Renoemar as colunas\n",
    "df.columns = ['Country', 'ISO3', 'Region', 'CPI', 'Rank', 'SE', 'Sources', 'Lower_CI', 'Upper_CI', 'ADB_CPIA', 'Bertelsmann_SGI', 'Bertelsmann_TII', 'EIU_Country_Ratings', 'Freedom_House', 'Global_Insights', 'IMD_WCY', 'PERC_ARG', 'PRS_ICRG', 'V_Democracy', 'WB_CPIA', 'WEF_EOS', 'WJP_Rule_Law']\n",
    "\n",
    "## Limpeza do dataset para remover dados desnecessários para a análise\n",
    "# Remover colunas numericas onde tem mais de 100 valores nulos\n",
    "df = df.dropna(thresh=100, axis=1)\n",
    "\n",
    "# Pegar apenas as colunas numericas, necessário para algumas análises\n",
    "df_num = df.select_dtypes(include=[np.number])"
   ]
  },
  {
   "cell_type": "code",
   "execution_count": null,
   "metadata": {},
   "outputs": [],
   "source": [
    "# Verificar a correlação entre as variáveis para limpeza do dataset, isso será feito para remover variáveis que possuem pouco ou nenhuma relação com o índice principal (CPI)\n",
    "correlation = df_num.corr(method='pearson')\n",
    "sns.heatmap(correlation, annot=True, cmap='coolwarm')\n",
    "plt.title('Correlação entre as variáveis do dataset')\n",
    "plt.show()\n",
    "plt.clf()"
   ]
  },
  {
   "cell_type": "code",
   "execution_count": null,
   "metadata": {},
   "outputs": [],
   "source": [
    "# Remover colunas que possuam pouca relação com a variável principal (CPI)\n",
    "df_num = df_num.drop(['SE', 'Sources', 'Lower_CI', 'Upper_CI', 'WJP_Rule_Law'], axis=1)\n",
    "print(df.info())"
   ]
  },
  {
   "cell_type": "markdown",
   "metadata": {},
   "source": [
    "# Descrição de cada coluna\n",
    " - Country: Nome do país\n",
    " - ISO3: Código ISO3 do país\n",
    " - Region: Região do país\n",
    " - CPI: Índice de Percepção de Corrupção (Corruption Perception Index)\n",
    " - Rank: Ranking do CPI\n",
    " - Bertelsmann_TII: Bertelsmann Stiftung - Transformation Index (Índice de Transformação)\n",
    " - EIU_Country_Ratings: Economist Intelligence Unit - Country Ratings (Avaliações de Países)\n",
    " - Global_Insights: Global Insights (Percepção Global)\n",
    " - PRS_ICRG: PRS International Country Risk Guide (Índice de Risco País)\n",
    " - V_Democracy: V-Dem Institute (Varieties of Democracy)\n",
    "\n",
    "# Explicações dos Termos:\n",
    " - Bertelsmann_TII: Bertelsmann Stiftung - Transformation Index (Índice de Transformação)\n",
    "    - Descrição: Também criado pela Fundação Bertelsmann, este índice avalia a transformação de países em desenvolvimento e em transição em direção a uma democracia e uma economia de mercado sustentáveis.\n",
    "    - Objetivo: Medir o progresso dos países em termos de transformação política e econômica, bem como a gestão política.\n",
    " - EIU_Country_Ratings: Economist Intelligence Unit - Country Ratings (Avaliações de Países)\n",
    "     - Descrição: As avaliações da Economist Intelligence Unit fornecem uma análise detalhada das condições políticas, econômicas e sociais de diversos países.\n",
    "     - Objetivo: Oferecer insights e previsões para empresas, governos e organizações sobre o ambiente de negócios e riscos em diferentes países.\n",
    " - Global_Insights: Global Insights (Percepção Global)\n",
    "     - Descrição: Este índice mede a percepção global sobre diferentes aspectos políticos e econômicos de diversos países.\n",
    "     - Objetivo: Oferecer uma perspectiva abrangente sobre os riscos e oportunidades globais, ajudando na tomada de decisões informadas.\n",
    " - PRS_ICRG: PRS International Country Risk Guide (Índice de Risco País)\n",
    "     - Descrição: O guia de risco país da PRS (Political Risk Services) fornece avaliações de risco político, econômico e financeiro de países ao redor do mundo.\n",
    "     - Objetivo: Ajudar empresas, investidores e governos a entender e gerenciar riscos país.\n",
    " - V_Democracy: V-Dem Institute (Varieties of Democracy)\n",
    "     - Descrição: O Instituto V-Dem oferece um conjunto de índices detalhados que medem diferentes aspectos da democracia em países ao redor do mundo.\n",
    "     - Objetivo: Fornecer dados e análises sobre a variação e evolução da democracia, ajudando na pesquisa e formulação de políticas."
   ]
  },
  {
   "cell_type": "markdown",
   "metadata": {},
   "source": [
    "# Análise Exploratória:\n",
    "\n",
    "Descrição do Dataset: \n",
    "\n",
    " - Descreva o dataset escolhido: O Índice de Percepção da Corrupção (CPI) de 2023 indica que a corrupção continua sendo um problema generalizado em todo o mundo. Este índice avalia 180 países e territórios com base em como seus setores públicos são percebidos em termos de corrupção, utilizando uma escala de 0 (altamente corrupto) a 100 (muito limpo).\n",
    "\n",
    " - Fonte: https://www.kaggle.com/datasets/agungpambudi/global-corruption-index-transparency-perceptions\n",
    "\n",
    " - Contexto: O dataset fornece dados sobre o Índice de Percepção de Corrupção (CPI) de 2023 para diversos países e territórios ao redor do mundo. O CPI é uma medida amplamente utilizada para avaliar o nível percebido de corrupção no setor público de um país, onde pontuações mais altas indicam menores níveis de corrupção percebida. A corrupção é um problema crítico que afeta a governança, a economia e a qualidade de vida das pessoas. Este índice é utilizado por governos, ONGs, empresas e cidadãos para entender e combater a corrupção.\n",
    "\n",
    " - Objetivo: O objetivo principal do dataset é demonstrar que uma menor percepção de corrupção (maiores pontuações no CPI) está associada a uma melhor qualidade de vida e governança em um país. O dataset permite a análise de como a corrupção afeta diversos aspectos de um país, incluindo governança, risco político, competitividade econômica e o estado de direito.\n",
    "\n",
    " - Observações (linhas): São 180 observações, cada uma representando um país ou território\n",
    "\n",
    " - Variáveis (colunas): São 22 variáveis (ao todo), porém ajustei o dataframe para 10 colunas onde removi as que mais tinhas valures nulos e as colunas com menos correlação entre as principais CPI e Rank. Dentre elas temos o nome do país, a pontuação do CPI (Corruption Perception Index), o ranking do CPI, e diversos índices e avaliações de diferentes organizações, como o Banco Mundial, o Fórum Econômico Mundial, e outros, que contribuem para a pontuação do CPI e fornecem uma visão mais ampla sobre a governança e o risco de corrupção nos países\n",
    "\n",
    " - Resumo estatístico: Calcule e apresente estatísticas descritivas das variáveis numéricas (média, mediana, desvio padrão, mínimo, máximo, quartis) e distribuições de frequência das variáveis categóricas."
   ]
  },
  {
   "cell_type": "code",
   "execution_count": null,
   "metadata": {},
   "outputs": [],
   "source": [
    "# Estatísticas descritivas das variáveis numéricas\n",
    "print('Estatísticas descritivas das variáveis numéricas:')\n",
    "print(df_num.describe())\n",
    "\n",
    "# Média das variáveis numéricas\n",
    "print('Média das variáveis numéricas:')\n",
    "print(df_num.mean())\n",
    "\n",
    "# Mediana das variáveis numéricas\n",
    "print('Mediana das variáveis numéricas:')\n",
    "print(df_num.median())\n",
    "\n",
    "# Desvio padrão das variáveis numéricas\n",
    "print('Desvio padrão das variáveis numéricas:')\n",
    "print(df_num.std())\n",
    "\n",
    "# Mínimo das variáveis numéricas\n",
    "print('Mínimo das variáveis numéricas:')\n",
    "print(df_num.min())\n",
    "\n",
    "# Máximo das variáveis numéricas\n",
    "print('Máximo das variáveis numéricas:')\n",
    "print(df_num.max())\n",
    "\n",
    "# Quartis das variáveis numéricas\n",
    "print('Quartis das variáveis numéricas:')\n",
    "print(df_num.quantile([0.25, 0.5, 0.75]))\n",
    "\n",
    "# Covariância entre as variáveis numéricas\n",
    "cov = df_num.cov()\n",
    "print('Covariância entre as variáveis numéricas:')\n",
    "print(cov)\n",
    "\n",
    "# Distribuições de frequência das variáveis categóricas\n",
    "print('Distribuição de frequência da variável Region:')\n",
    "print(df['Region'].value_counts())\n",
    "\n",
    "# Correlação entre as veriáveis Global_Insights e V_Democracy\n",
    "corr_gi_wb = stats.pearsonr(df['Global_Insights'], df['V_Democracy'])\n",
    "print('Correlação entre as veriáveis Global_Insights e V_Democracy:')\n",
    "print(corr_gi_wb)"
   ]
  },
  {
   "cell_type": "markdown",
   "metadata": {},
   "source": [
    "# Visualizações\n",
    "\n",
    "Crie visualizações que ajudem a entender a distribuição dos dados e as relações entre as variáveis. Utilize gráficos como histograma, boxplot, scatter plot, heatmap de correlação, entre outros.\n"
   ]
  },
  {
   "cell_type": "code",
   "execution_count": null,
   "metadata": {},
   "outputs": [],
   "source": [
    "# Verificar a correlação entre as variáveis ajustadas\n",
    "correlation = df_num.corr(method='pearson')\n",
    "sns.heatmap(correlation, annot=True, cmap='coolwarm')\n",
    "plt.title('Correlação entre as variáveis do dataset')\n",
    "plt.show()\n",
    "plt.clf()"
   ]
  },
  {
   "cell_type": "code",
   "execution_count": null,
   "metadata": {},
   "outputs": [],
   "source": [
    "# Distribuição de frequência da variável CPI\n",
    "sns.histplot(df['CPI'], bins=20, kde=True, color='blue')\n",
    "plt.title('Distribuição de Frequência do CPI (Corruption Perception Index)')\n",
    "plt.xlabel('CPI')\n",
    "plt.ylabel('Frequência')\n",
    "plt.show()\n",
    "plt.clf()"
   ]
  },
  {
   "cell_type": "code",
   "execution_count": null,
   "metadata": {},
   "outputs": [],
   "source": [
    "# Distribuição de frequência da variável Global_Insights\n",
    "sns.histplot(df['Global_Insights'], bins=20, kde=True, color='green')\n",
    "plt.title('Distribuição de Frequência do Global_Insights')\n",
    "plt.xlabel('Global_Insights')\n",
    "plt.ylabel('Frequência')\n",
    "plt.show()\n",
    "plt.clf()"
   ]
  },
  {
   "cell_type": "code",
   "execution_count": null,
   "metadata": {},
   "outputs": [],
   "source": [
    "# Distribuição de frequência da variável V_Democracy\n",
    "sns.histplot(df['V_Democracy'], bins=20, kde=True, color='red')\n",
    "plt.title('Distribuição de Frequência do V_Democracy')\n",
    "plt.xlabel('V_Democracy')\n",
    "plt.ylabel('Frequência')\n",
    "plt.show()\n",
    "plt.clf()"
   ]
  },
  {
   "cell_type": "code",
   "execution_count": null,
   "metadata": {},
   "outputs": [],
   "source": [
    "# Lista o Top 10 dos países com maior CPI\n",
    "sns.barplot(x = df['CPI'], y = df['Country'], order=df.nlargest(10, 'CPI')['Country'], data=df, palette='viridis')\n",
    "plt.title('Top 10 Países com Maior CPI')\n",
    "plt.xlabel('CPI')\n",
    "plt.ylabel('País')\n",
    "plt.show()\n",
    "plt.clf()"
   ]
  },
  {
   "cell_type": "code",
   "execution_count": null,
   "metadata": {},
   "outputs": [],
   "source": [
    "# Lista o Top 10 dos países com menor CPI\n",
    "sns.barplot(x = df['CPI'], y = df['Country'], order=df.nsmallest(10, 'CPI')['Country'], data=df, palette='magma')\n",
    "plt.title('Top 10 Países com Menor CPI')\n",
    "plt.xlabel('CPI')\n",
    "plt.ylabel('País')\n",
    "plt.show()\n",
    "plt.clf()"
   ]
  },
  {
   "cell_type": "code",
   "execution_count": null,
   "metadata": {},
   "outputs": [],
   "source": [
    "# Lista com Top 10 dos países com maior V_Democracy\n",
    "sns.barplot(x = df['V_Democracy'], y = df['Country'], order=df.nlargest(10, 'V_Democracy')['Country'], data=df, palette='viridis')\n",
    "plt.title('Top 10 Países com Maior V_Democracy')\n",
    "plt.xlabel('V_Democracy')\n",
    "plt.ylabel('País')\n",
    "plt.show()\n",
    "plt.clf()"
   ]
  },
  {
   "cell_type": "code",
   "execution_count": null,
   "metadata": {},
   "outputs": [],
   "source": [
    "# Lista com Top 10 dos países com menor V_Democracy\n",
    "sns.barplot(x = df['V_Democracy'], y = df['Country'], order=df.nsmallest(10, 'V_Democracy')['Country'], data=df, palette='magma')\n",
    "plt.title('Top 10 Países com Menor V_Democracy')\n",
    "plt.xlabel('V_Democracy')\n",
    "plt.ylabel('País')\n",
    "plt.show()\n",
    "plt.clf()"
   ]
  },
  {
   "cell_type": "code",
   "execution_count": null,
   "metadata": {},
   "outputs": [],
   "source": [
    "# Scatter plot entre as variáveis CPI e Rank\n",
    "sns.scatterplot(x = df['CPI'], y = df['Rank'], s=100, color='green', alpha=0.7)\n",
    "sns.regplot(x = df['CPI'], y = df['Rank'], scatter=False, color='green')\n",
    "plt.suptitle('Scatter plot entre CPI e Rank')\n",
    "plt.xlabel('CPI')\n",
    "plt.ylabel('Rank')\n",
    "plt.show()\n",
    "plt.clf()"
   ]
  },
  {
   "cell_type": "code",
   "execution_count": null,
   "metadata": {},
   "outputs": [],
   "source": [
    "# Scatter plot entre as variáveis Rank e V_Democracy\n",
    "sns.scatterplot(x = df['Rank'], y = df['V_Democracy'], s=100, color='blue', alpha=0.7)\n",
    "sns.regplot(x = df['Rank'], y = df['V_Democracy'], scatter=False, color='blue')\n",
    "plt.suptitle('Scatter plot entre Rank e V_Democracy')\n",
    "plt.xlabel('Rank')\n",
    "plt.ylabel('V_Democracy')\n",
    "plt.show()\n",
    "plt.clf()"
   ]
  },
  {
   "cell_type": "code",
   "execution_count": null,
   "metadata": {},
   "outputs": [],
   "source": [
    "# Verificar a distribuição das variáveis numéricas\n",
    "plt.hist(df['CPI'], color='red', alpha = 0.5, density=True, label = 'CPI')\n",
    "plt.hist(df['V_Democracy'], color='green', alpha = 0.5, density=True, label = 'V_Democracy')\n",
    "plt.hist(df['Bertelsmann_TII'], color='blue', alpha = 0.5, density=True, label = 'Bertelsmann_TII')\n",
    "plt.legend(loc='upper right')\n",
    "plt.show()\n",
    "plt.clf()"
   ]
  },
  {
   "cell_type": "markdown",
   "metadata": {},
   "source": [
    "Realizado ajuste na nomeclatura doas regiões para melhor visualização e entendimento dos dados"
   ]
  },
  {
   "cell_type": "code",
   "execution_count": null,
   "metadata": {},
   "outputs": [],
   "source": [
    "# Ajustar nomeclaturas das Regiões\n",
    "df['Region'] = df['Region'].replace('SSA', 'Africa Sub-Sahariana')\n",
    "df['Region'] = df['Region'].replace('AME', 'América')\n",
    "df['Region'] = df['Region'].replace('AP', 'Ásia-Pacífico')\n",
    "df['Region'] = df['Region'].replace('WE/EU', 'Europa Ocidental e Central')\n",
    "df['Region'] = df['Region'].replace('ECA', 'Europa e Ásia Central')\n",
    "df['Region'] = df['Region'].replace('MENA', 'Oriente Médio e Norte da África')"
   ]
  },
  {
   "cell_type": "code",
   "execution_count": null,
   "metadata": {},
   "outputs": [],
   "source": [
    "# Verificar a distribuição das variáveis categóricas\n",
    "df['Region'].value_counts().plot(kind='barh', figsize=(20, 10))\n",
    "plt.title('Distribuição das regiões dos países')\n",
    "plt.show()\n",
    "plt.clf()"
   ]
  },
  {
   "cell_type": "code",
   "execution_count": null,
   "metadata": {},
   "outputs": [],
   "source": [
    "# Relacionar a variável categórica Region com a média do EIU_Country_Ratings e mostrar num gráfico de barras\n",
    "df_region = df.groupby('Region')['EIU_Country_Ratings'].mean().sort_values(ascending=False)\n",
    "df_region.plot(kind='barh', figsize=(20, 10))\n",
    "plt.title('Média do EIU_Country_Ratings por Região')\n",
    "plt.ylabel('Região')\n",
    "plt.xlabel('Média do EIU_Country_Ratings')\n",
    "plt.show()\n",
    "plt.clf()"
   ]
  },
  {
   "cell_type": "code",
   "execution_count": null,
   "metadata": {},
   "outputs": [],
   "source": [
    "# Relacionar a variável categórica Region com a média do PRS_ICRG e mostrar num gráfico de barras\n",
    "df_region = df.groupby('Region')['PRS_ICRG'].mean().sort_values(ascending=False)\n",
    "df_region.plot(kind='barh', figsize=(20, 10))\n",
    "plt.title('Média do PRS_ICRG por Região')\n",
    "plt.ylabel('Região')\n",
    "plt.xlabel('Média do PRS_ICRG')\n",
    "plt.show()\n",
    "plt.clf()"
   ]
  },
  {
   "cell_type": "code",
   "execution_count": null,
   "metadata": {},
   "outputs": [],
   "source": [
    "# Relacionar a variável categórica Region com a média do CPI e mostrar num gráfico de barras\n",
    "df_region = df.groupby('Region')['CPI'].mean().sort_values(ascending=False)\n",
    "df_region.plot(kind='barh', figsize=(20, 10))\n",
    "plt.title('Média do CPI por Região')\n",
    "plt.ylabel('Região')\n",
    "plt.xlabel('Média do CPI')\n",
    "plt.show()\n",
    "plt.clf()"
   ]
  },
  {
   "cell_type": "code",
   "execution_count": null,
   "metadata": {},
   "outputs": [],
   "source": [
    "# Relacionar a variável categórica Region com a média do Global_Insights e mostrar num gráfico de barras\n",
    "df_region = df.groupby('Region')['Global_Insights'].mean().sort_values(ascending=False)\n",
    "df_region.plot(kind='barh', figsize=(20, 10))\n",
    "plt.title('Média do Global_Insights por Região')\n",
    "plt.ylabel('Região')\n",
    "plt.xlabel('Média do Global_Insights')\n",
    "plt.show()\n",
    "plt.clf()"
   ]
  },
  {
   "cell_type": "code",
   "execution_count": null,
   "metadata": {},
   "outputs": [],
   "source": [
    "# Criar bloxpot para a variável numérica V_Democracy separado por Região\n",
    "sns.boxplot(x='Region', y='V_Democracy', data=df, palette='Set1')\n",
    "plt.title('Boxplot do V_Democracy por Região')\n",
    "plt.show()\n",
    "plt.clf()"
   ]
  },
  {
   "cell_type": "code",
   "execution_count": null,
   "metadata": {},
   "outputs": [],
   "source": [
    "# Criar bloxpot para a variável numérica CPI separado por Região\n",
    "sns.boxplot(x='Region', y='CPI', data=df, palette='Set2')\n",
    "plt.title('Boxplot do CPI por Região')\n",
    "plt.show()\n",
    "plt.clf()"
   ]
  },
  {
   "cell_type": "code",
   "execution_count": null,
   "metadata": {},
   "outputs": [],
   "source": [
    "# Criar bloxpot para a variável numérica Global_Insights\n",
    "sns.boxplot(x='Region', y='Global_Insights', data=df, palette='Set3')\n",
    "plt.title('Boxplot do Global_Insights por Região')\n",
    "plt.show()\n",
    "plt.clf()"
   ]
  },
  {
   "cell_type": "markdown",
   "metadata": {},
   "source": [
    "# Conclusões:\n",
    "\n",
    "A análise exploratória dos dados do Índice de Percepção de Corrupção (CPI) de 2023 revelou várias informações importantes sobre a percepção de corrupção em diferentes países e regiões ao redor do mundo. Aqui estão algumas das principais conclusões e insights obtidos:\n",
    " - A pontuação média do CPI foi de aproximadamente 45, com um desvio padrão de 20. Isso indica que há uma variação significativa na percepção de corrupção entre os países incluídos no dataset.\n",
    " - A região com a maior média de CPI foi a Europa Ocidental e Central, seguida pela Europa e Ásia Central e pela América. A África Sub-Sahariana teve a menor média de CPI.\n",
    " - A região com a maior média de Global Insights foi a Europa Ocidental e Central, seguida pela Europa e Ásia Central e pela América. A África Sub-Sahariana teve a menor média de Global Insights.\n",
    " - A região com a maior média de V-Democracy foi a Europa Ocidental e Central, seguida pela Europa e Ásia Central e pela América. A África Sub-Sahariana teve a menor média de V-Democracy.\n",
    " - Em termos de correlação vemos que os países com maior percepção de corrupção (CPI) tendem a uma pior avaliação no restante dos índices apresentados nos dados analisados.\n",
    " - Outra análise importante é que independente da visão de democracia, temos, através da distribuição de frequência da variável V_Democracy, que nao há uma relação direta com a percepção de corrupção, ou seja, países com maior percepção de corrupção não necessariamente são menos democráticos. Um exemplo disso é a China, que está entre os 50% menos corruptos, de acordo com o CPI, mas é um país com baixa democracia (apenas um partido governa o país)."
   ]
  },
  {
   "cell_type": "markdown",
   "metadata": {},
   "source": [
    "# Proponha próximos passos para uma análise mais aprofundada ou para a aplicação dos dados em um modelo preditivo, se aplicável.\n",
    "\n",
    "Para próximas análises seria interessante colocar dados de PIB Per Capita e outros dados econômicos para verificar a relação entre a percepção de corrupção e o desenvolvimento econômico dos países. Além disso, seria interessante aplicar técnicas de machine learning para prever a percepção de corrupção com base em outros índices e variáveis disponíveis no dataset. Isso poderia ajudar a identificar outras métricas que possam influenciar na percepção de corrupção e a desenvolver ações eficazes para combate a corrupção."
   ]
  }
 ],
 "metadata": {
  "language_info": {
   "name": "python"
  }
 },
 "nbformat": 4,
 "nbformat_minor": 2
}
